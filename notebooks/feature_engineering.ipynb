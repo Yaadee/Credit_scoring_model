{
 "cells": [
  {
   "cell_type": "code",
   "execution_count": 1,
   "metadata": {},
   "outputs": [],
   "source": [
    "\n",
    "import pandas as pd\n",
    "\n",
    "def create_features(df):\n",
    "    df['TransactionHour'] = pd.to_datetime(df['TransactionStartTime']).dt.hour\n",
    "    df['TransactionDay'] = pd.to_datetime(df['TransactionStartTime']).dt.day\n",
    "    df['TransactionMonth'] = pd.to_datetime(df['TransactionStartTime']).dt.month\n",
    "    df['TransactionYear'] = pd.to_datetime(df['TransactionStartTime']).dt.year\n",
    "    return df\n"
   ]
  }
 ],
 "metadata": {
  "kernelspec": {
   "display_name": "venv",
   "language": "python",
   "name": "python3"
  },
  "language_info": {
   "codemirror_mode": {
    "name": "ipython",
    "version": 3
   },
   "file_extension": ".py",
   "mimetype": "text/x-python",
   "name": "python",
   "nbconvert_exporter": "python",
   "pygments_lexer": "ipython3",
   "version": "3.10.12"
  }
 },
 "nbformat": 4,
 "nbformat_minor": 2
}
